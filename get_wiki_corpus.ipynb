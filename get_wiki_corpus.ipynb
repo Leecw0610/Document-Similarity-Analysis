{
 "metadata": {
  "language_info": {
   "codemirror_mode": {
    "name": "ipython",
    "version": 3
   },
   "file_extension": ".py",
   "mimetype": "text/x-python",
   "name": "python",
   "nbconvert_exporter": "python",
   "pygments_lexer": "ipython3",
   "version": "3.7.9-final"
  },
  "orig_nbformat": 2,
  "kernelspec": {
   "name": "python379jvsc74a57bd042588fd11209419b7c81abe23e31a1d2101f60811b02170c268e57ebb57d5d9a",
   "display_name": "Python 3.7.9 64-bit (conda)"
  }
 },
 "nbformat": 4,
 "nbformat_minor": 2,
 "cells": [
  {
   "source": [
    "## Word2Vec 학습용 말뭉치 얻기 : 위키피디아"
   ],
   "cell_type": "markdown",
   "metadata": {}
  },
  {
   "cell_type": "code",
   "execution_count": null,
   "metadata": {},
   "outputs": [],
   "source": [
    "# 1. 위키피디아 한국어 덤프 파일 다운로드\n",
    "# https://dumps.wikimedia.org/kowiki/latest/\n",
    "# kowiki-latest-pages-articles.xml.bz2 를 다운로드"
   ]
  },
  {
   "cell_type": "code",
   "execution_count": null,
   "metadata": {},
   "outputs": [],
   "source": [
    "# 2. 위키피디아 한국어 덤프 파일 변환"
   ]
  },
  {
   "cell_type": "code",
   "execution_count": null,
   "metadata": {},
   "outputs": [],
   "source": [
    "# 방법1: https://wikidocs.net/50739\n",
    "# 실패\n",
    "# ImportError: attempted relative import with no known parent package"
   ]
  },
  {
   "cell_type": "code",
   "execution_count": null,
   "metadata": {},
   "outputs": [],
   "source": [
    "# 방법2: https://paul-hyun.github.io/vocab-with-sentencepiece/\n",
    "# 성공!\n",
    "# 아래를 순서대로 터미널에 입력\n",
    "\n",
    "# git clone https://github.com/paul-hyun/web-crawler.git\n",
    "# cd web-crawler\n",
    "# pip install tqdm\n",
    "# pip install pandas\n",
    "# pip install bs4\n",
    "# pip install wget\n",
    "# pip install pymongo\n",
    "# python kowiki.py"
   ]
  },
  {
   "cell_type": "code",
   "execution_count": null,
   "metadata": {},
   "outputs": [],
   "source": [
    "# 3. 생성된 AA ~ AH 디렉토리 안의 wiki00 ~ wiki90 파일들을 하나의 텍스트 파일로 통합\n",
    "# (1) AA 폴더 안의 wiki00 ~ wiki90를 wikiAA로 합치기\n",
    "# copy kowiki\\AA\\wiki* wikiAA.txt # AH까지 반복\n",
    "\n",
    "# (2) wikiAA ~ wikiAH를 하나의 파일로 합치기\n",
    "# copy wikiA* wiki_data.txt\n",
    "\n",
    "# (참고) 파일 경로\n",
    "# ..\\web-crawler\\kowiki\\AA\\wiki_00"
   ]
  },
  {
   "cell_type": "code",
   "execution_count": 2,
   "metadata": {},
   "outputs": [
    {
     "output_type": "stream",
     "name": "stdout",
     "text": [
      "5000번째 While문.\n",
      "10000번째 While문.\n",
      "15000번째 While문.\n",
      "20000번째 While문.\n",
      "25000번째 While문.\n",
      "30000번째 While문.\n",
      "35000번째 While문.\n",
      "40000번째 While문.\n",
      "45000번째 While문.\n",
      "50000번째 While문.\n",
      "55000번째 While문.\n",
      "60000번째 While문.\n",
      "65000번째 While문.\n",
      "70000번째 While문.\n",
      "75000번째 While문.\n",
      "80000번째 While문.\n",
      "85000번째 While문.\n",
      "90000번째 While문.\n",
      "95000번째 While문.\n",
      "100000번째 While문.\n",
      "105000번째 While문.\n",
      "110000번째 While문.\n",
      "115000번째 While문.\n",
      "120000번째 While문.\n",
      "125000번째 While문.\n",
      "130000번째 While문.\n",
      "135000번째 While문.\n",
      "140000번째 While문.\n",
      "145000번째 While문.\n",
      "150000번째 While문.\n",
      "155000번째 While문.\n",
      "160000번째 While문.\n",
      "165000번째 While문.\n",
      "170000번째 While문.\n",
      "175000번째 While문.\n",
      "180000번째 While문.\n",
      "185000번째 While문.\n",
      "190000번째 While문.\n",
      "195000번째 While문.\n",
      "200000번째 While문.\n",
      "205000번째 While문.\n",
      "210000번째 While문.\n",
      "215000번째 While문.\n",
      "220000번째 While문.\n",
      "225000번째 While문.\n",
      "230000번째 While문.\n",
      "235000번째 While문.\n",
      "240000번째 While문.\n",
      "245000번째 While문.\n",
      "250000번째 While문.\n",
      "255000번째 While문.\n",
      "260000번째 While문.\n",
      "265000번째 While문.\n",
      "270000번째 While문.\n",
      "275000번째 While문.\n",
      "280000번째 While문.\n",
      "285000번째 While문.\n",
      "290000번째 While문.\n",
      "295000번째 While문.\n",
      "300000번째 While문.\n",
      "305000번째 While문.\n",
      "310000번째 While문.\n",
      "315000번째 While문.\n",
      "320000번째 While문.\n",
      "325000번째 While문.\n",
      "330000번째 While문.\n",
      "335000번째 While문.\n",
      "340000번째 While문.\n",
      "345000번째 While문.\n",
      "350000번째 While문.\n",
      "355000번째 While문.\n",
      "360000번째 While문.\n",
      "365000번째 While문.\n",
      "370000번째 While문.\n",
      "375000번째 While문.\n",
      "380000번째 While문.\n",
      "385000번째 While문.\n",
      "390000번째 While문.\n",
      "395000번째 While문.\n",
      "400000번째 While문.\n",
      "405000번째 While문.\n",
      "410000번째 While문.\n",
      "415000번째 While문.\n",
      "420000번째 While문.\n",
      "425000번째 While문.\n",
      "430000번째 While문.\n",
      "435000번째 While문.\n",
      "440000번째 While문.\n",
      "445000번째 While문.\n",
      "450000번째 While문.\n",
      "455000번째 While문.\n",
      "460000번째 While문.\n",
      "465000번째 While문.\n",
      "470000번째 While문.\n",
      "475000번째 While문.\n",
      "480000번째 While문.\n",
      "485000번째 While문.\n",
      "490000번째 While문.\n",
      "495000번째 While문.\n",
      "500000번째 While문.\n",
      "505000번째 While문.\n",
      "510000번째 While문.\n",
      "515000번째 While문.\n",
      "520000번째 While문.\n",
      "525000번째 While문.\n",
      "530000번째 While문.\n"
     ]
    }
   ],
   "source": [
    "# 훈련 데이터 전처리\n",
    "from konlpy.tag import Okt\n",
    "okt=Okt()\n",
    "fread = open('web-crawler\\wiki_data.txt', encoding=\"utf8\")\n",
    "\n",
    "# 파일을 다시 처음부터 읽음.\n",
    "n=0\n",
    "result = []\n",
    "\n",
    "while True:\n",
    "    line = fread.readline() #한 줄씩 읽음.\n",
    "    if not line: break # 모두 읽으면 while문 종료.\n",
    "    n=n+1\n",
    "    if n%5000==0: # 5,000의 배수로 While문이 실행될 때마다 몇 번째 While문 실행인지 출력.\n",
    "        print(\"%d번째 While문.\"%n)\n",
    "    tokenlist = okt.pos(line, stem=True, norm=True) # 단어 토큰화\n",
    "    temp=[]\n",
    "    for word in tokenlist:\n",
    "        if word[1] in [\"Noun\"]: # 명사일 때만\n",
    "            temp.append((word[0])) # 해당 단어를 저장함\n",
    "\n",
    "    if temp: # 만약 이번에 읽은 데이터에 명사가 존재할 경우에만\n",
    "      result.append(temp) # 결과에 저장\n",
    "fread.close()"
   ]
  },
  {
   "cell_type": "code",
   "execution_count": null,
   "metadata": {},
   "outputs": [],
   "source": [
    "# 약 53만건의 데이터 생성 완료 : result라는 리스트 안에 들어있다.\n",
    "# 훈련하기 : gensim의 word2vec 모델 사용\n",
    "from gensim.models import Word2Vec\n",
    "model = Word2Vec(result, size=100, window=5, min_count=5, workers=4, sg=0)\n",
    "\n",
    "# 파라미터 값\n",
    "# result : Word2Vec모델을 result 속의 데이터로 훈련시킨다.\n",
    "# size=100 : 100차원으로 임베딩한다.\n",
    "# window=5 : 특정 단어의 앞 뒤 5단어까지 확인해 문맥을 파악한다.\n",
    "# min_count=5 : 5번 미만 등장한 단어는 학습하지 않는다.\n",
    "# workers: 학습을 위한 프로세스 수\n",
    "# sg: 0은 CBOW, 1은 Skip-gram"
   ]
  },
  {
   "cell_type": "code",
   "execution_count": null,
   "metadata": {},
   "outputs": [],
   "source": [
    "# 모델 저장하기\n",
    "model.wv.save_word2vec_format('wiki_word2vec')"
   ]
  }
 ]
}
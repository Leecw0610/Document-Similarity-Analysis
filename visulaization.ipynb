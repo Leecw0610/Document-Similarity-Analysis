{
 "metadata": {
  "language_info": {
   "codemirror_mode": {
    "name": "ipython",
    "version": 3
   },
   "file_extension": ".py",
   "mimetype": "text/x-python",
   "name": "python",
   "nbconvert_exporter": "python",
   "pygments_lexer": "ipython3",
   "version": "3.7.10"
  },
  "orig_nbformat": 2,
  "kernelspec": {
   "name": "python3",
   "display_name": "Python 3",
   "language": "python"
  }
 },
 "nbformat": 4,
 "nbformat_minor": 2,
 "cells": [
  {
   "cell_type": "code",
   "execution_count": 1,
   "metadata": {},
   "outputs": [],
   "source": [
    "# Library Import\n",
    "import pandas as pd\n",
    "import matplotlib.pyplot as plt\n",
    "import matplotlib as mpl\n",
    "import matplotlib.font_manager as fm\n",
    "\n",
    "# font (한글 깨짐 방지)\n",
    "from matplotlib import rc\n",
    "font_name = fm.FontProperties(fname = \"C:/WINDOWS/Fonts/NanumSquareEB.ttf\").get_name()\n",
    "rc('font', family=font_name)"
   ]
  },
  {
   "cell_type": "code",
   "execution_count": null,
   "metadata": {},
   "outputs": [],
   "source": [
    "# 책 A, B, C, D끼리 얼마나 유사한지 히트맵으로 시각화하기"
   ]
  },
  {
   "cell_type": "code",
   "execution_count": 18,
   "metadata": {},
   "outputs": [],
   "source": [
    "# 시각화 하고자 하는 데이터 호출\n",
    "df = pd.read_csv('book_heatmap.csv', encoding='cp949', header=None)"
   ]
  },
  {
   "cell_type": "code",
   "execution_count": 19,
   "metadata": {},
   "outputs": [],
   "source": [
    "x = ['A', 'B', 'C', 'D'] # x축\n",
    "y = ['A', 'B', 'C', 'D'] # y축"
   ]
  },
  {
   "cell_type": "code",
   "execution_count": null,
   "metadata": {},
   "outputs": [],
   "source": [
    "# 데이터프레임을 배열로 변환하기\n",
    "new_np = df.values"
   ]
  },
  {
   "cell_type": "code",
   "execution_count": 1,
   "metadata": {},
   "outputs": [],
   "source": [
    "# 히트맵 그리기\n",
    "fig, ax = plt.subplots()\n",
    "im = ax.imshow(new_np, cmap='OrRd') # camp: 흰색 ~ 붉은색으로 표현되도록 함\n",
    "\n",
    "# show all ticks\n",
    "ax.set_xticks(np.arange(len(x)))\n",
    "ax.set_yticks(np.arange(len(y)))\n",
    "\n",
    "# label ticks with the respective list entries\n",
    "ax.set_xticklabels(x)\n",
    "ax.set_yticklabels(y)\n",
    "\n",
    "# 축 이름\n",
    "plt.xlabel('과목B : 유사 교과목 수', fontsize = 15)\n",
    "plt.ylabel('과목A : 고유 개수', fontsize = 15)\n",
    "\n",
    "# Rotate the tick labels and set their alignment.\n",
    "plt.setp(ax.get_xticklabels(), rotation=45, ha=\"right\",\n",
    "         rotation_mode=\"anchor\")\n",
    "\n",
    "# Loop over data dimensions and create text annotations.\n",
    "for i in range(len(x)):\n",
    "    for j in range(len(y)):\n",
    "        text = ax.text(j, i, new_np[i, j],\n",
    "                       ha=\"center\", va=\"center\", color=\"black\")\n",
    "\n",
    "# 히트맵 제목 설정\n",
    "ax.set_title(\"책의 유사도\")\n",
    "\n",
    "# 히트맵 사이즈 설정\n",
    "plt.rcParams['figure.figsize'] = [10, 10]\n",
    "fig.tight_layout()\n",
    "\n",
    "# 히트맵 컬러바 설정\n",
    "plt.colorbar(im, ax=ax, shrink=0.8)\n",
    "\n",
    "plt.show()"
   ]
  }
 ]
}